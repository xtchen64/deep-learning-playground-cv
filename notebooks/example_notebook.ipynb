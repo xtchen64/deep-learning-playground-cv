{
 "cells": [
  {
   "cell_type": "code",
   "execution_count": 1,
   "metadata": {},
   "outputs": [
    {
     "data": {
      "text/plain": [
       "1"
      ]
     },
     "execution_count": 1,
     "metadata": {},
     "output_type": "execute_result"
    }
   ],
   "source": [
    "1"
   ]
  },
  {
   "cell_type": "code",
   "execution_count": 1,
   "metadata": {},
   "outputs": [
    {
     "ename": "ModuleNotFoundError",
     "evalue": "No module named 'utils.common_utils'",
     "output_type": "error",
     "traceback": [
      "\u001b[0;31m---------------------------------------------------------------------------\u001b[0m",
      "\u001b[0;31mModuleNotFoundError\u001b[0m                       Traceback (most recent call last)",
      "Cell \u001b[0;32mIn[1], line 5\u001b[0m\n\u001b[1;32m      1\u001b[0m \u001b[39m#!/usr/bin/env python\u001b[39;00m\n\u001b[1;32m      2\u001b[0m \u001b[39m#import sys\u001b[39;00m\n\u001b[1;32m      3\u001b[0m \u001b[39m#sys.path.append(\"/Users/xtchen/Code/deep-learning-with-mnist/utils/\")\u001b[39;00m\n\u001b[0;32m----> 5\u001b[0m \u001b[39mfrom\u001b[39;00m \u001b[39mutils\u001b[39;00m\u001b[39m.\u001b[39;00m\u001b[39mcommon_utils\u001b[39;00m \u001b[39mimport\u001b[39;00m auto_reload\n",
      "\u001b[0;31mModuleNotFoundError\u001b[0m: No module named 'utils.common_utils'"
     ]
    }
   ],
   "source": [
    "#!/usr/bin/env python\n",
    "#import sys\n",
    "#sys.path.append(\"/Users/xtchen/Code/deep-learning-with-mnist/utils/\")\n",
    "\n",
    "from utils.common_utils import auto_reload"
   ]
  },
  {
   "cell_type": "code",
   "execution_count": 16,
   "metadata": {},
   "outputs": [
    {
     "name": "stdout",
     "output_type": "stream",
     "text": [
      "['/Users/xtchen/Code/deep-learning-with-mnist/notebooks', '/Users/xtchen/anaconda3/lib/python311.zip', '/Users/xtchen/anaconda3/lib/python3.11', '/Users/xtchen/anaconda3/lib/python3.11/lib-dynload', '', '/Users/xtchen/Code/deep-learning-with-mnist/mnist/lib/python3.11/site-packages', '/Users/xtchen/Code/deep-learning-with-mnist', '/Users/xtchen/Code/deep-learning-with-mnist', '/Users/xtchen/Code/deep-learning-with-mnist', '/Users/xtchen/Code/deep-learning-with-mnist', '/Users/xtchen/Code/deep-learning-with-mnist', '/Users/xtchen/Code/deep-learning-with-mnist']\n"
     ]
    }
   ],
   "source": [
    "print(sys.path)\n"
   ]
  },
  {
   "cell_type": "code",
   "execution_count": null,
   "metadata": {},
   "outputs": [],
   "source": [
    "['/Users/xtchen/Code/deep-learning-with-mnist/notebooks', '/Users/xtchen/anaconda3/lib/python311.zip', '/Users/xtchen/anaconda3/lib/python3.11', '/Users/xtchen/anaconda3/lib/python3.11/lib-dynload', '', '/Users/xtchen/Code/deep-learning-with-mnist/mnist/lib/python3.11/site-packages', '/Users/xtchen/Code/deep-learning-with-mnist', '/Users/xtchen/Code/deep-learning-with-mnist', '/Users/xtchen/Code/deep-learning-with-mnist', '/Users/xtchen/Code/deep-learning-with-mnist', '/Users/xtchen/Code/deep-learning-with-mnist', '/Users/xtchen/Code/deep-learning-with-mnist']"
   ]
  },
  {
   "cell_type": "code",
   "execution_count": 18,
   "metadata": {},
   "outputs": [
    {
     "name": "stdout",
     "output_type": "stream",
     "text": [
      "['mnist', 'LICENSE', 'requirements.txt', 'pipelines', 'utils', 'models', 'README.md', '.gitignore', '.git', 'assets', 'notebooks']\n"
     ]
    }
   ],
   "source": [
    "import os\n",
    "print(os.listdir(\"/Users/xtchen/Code/deep-learning-with-mnist\"))"
   ]
  },
  {
   "cell_type": "code",
   "execution_count": null,
   "metadata": {},
   "outputs": [],
   "source": []
  }
 ],
 "metadata": {
  "kernelspec": {
   "display_name": "mnist",
   "language": "python",
   "name": "python3"
  },
  "language_info": {
   "codemirror_mode": {
    "name": "ipython",
    "version": 3
   },
   "file_extension": ".py",
   "mimetype": "text/x-python",
   "name": "python",
   "nbconvert_exporter": "python",
   "pygments_lexer": "ipython3",
   "version": "3.11.6"
  },
  "orig_nbformat": 4
 },
 "nbformat": 4,
 "nbformat_minor": 2
}
